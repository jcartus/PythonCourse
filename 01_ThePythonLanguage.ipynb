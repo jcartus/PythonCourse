{
 "cells": [
  {
   "cell_type": "markdown",
   "metadata": {},
   "source": [
    "# Overview: The Python Language\n",
    "\n",
    "- defining variables and functions (datatypes)\n",
    "- if, for and friends\n",
    "- funcitons and classes"
   ]
  },
  {
   "cell_type": "markdown",
   "metadata": {},
   "source": [
    "# The interpreter\n",
    "Python is an [_interpreted_](https://en.wikipedia.org/wiki/Interpreted_language) language. This means you give some python code, e.g. in form of a script of a cell in this notebook to the interpreter and it will execute it right away. This is in contrast to _compiled_ langauges, where code is first translated (_compiled_) into machine code, which can then be executed. The compiled machine code is system specific and will only run on the system that was used to create it or systems that are at least very similar to it. Python however can run on any system on which the python interpreter was installed."
   ]
  },
  {
   "cell_type": "markdown",
   "metadata": {},
   "source": [
    "# Python 2.x vs python 3.x\n",
    "After python 2.7 several fundamental things were changed. Therfore code in python 3.x is usually not compatible with 2.7 or older. \n",
    "\n",
    "If you start new code always use python 3.x. However there are many tools still in python 2.7 that have not been ported yet and probably never will be."
   ]
  },
  {
   "cell_type": "markdown",
   "metadata": {},
   "source": [
    "# The most important command: print\n",
    "You can use the built-in command [_print_](https://docs.python.org/3/library/functions.html#print) to make python code, that is interpreted output things so you can read them. "
   ]
  },
  {
   "cell_type": "code",
   "execution_count": 5,
   "metadata": {},
   "outputs": [
    {
     "name": "stdout",
     "output_type": "stream",
     "text": [
      "Hello\n"
     ]
    }
   ],
   "source": [
    "print(\"Hello\")"
   ]
  },
  {
   "cell_type": "markdown",
   "metadata": {},
   "source": [
    "Fun fact: jupyter notebook will also print the output of the last line of code in a cell.  "
   ]
  },
  {
   "cell_type": "code",
   "execution_count": 6,
   "metadata": {},
   "outputs": [
    {
     "data": {
      "text/plain": [
       "1.2"
      ]
     },
     "execution_count": 6,
     "metadata": {},
     "output_type": "execute_result"
    }
   ],
   "source": [
    "1.2"
   ]
  },
  {
   "cell_type": "markdown",
   "metadata": {},
   "source": [
    "Print can be very helpful for debugging as well as for displaying messages to the user of your code. "
   ]
  },
  {
   "cell_type": "markdown",
   "metadata": {},
   "source": [
    "### Exercise: \n",
    "Print \"Hello World\""
   ]
  },
  {
   "cell_type": "code",
   "execution_count": null,
   "metadata": {},
   "outputs": [],
   "source": []
  },
  {
   "cell_type": "markdown",
   "metadata": {},
   "source": [
    "# Comments\n",
    "Comments are issued with _#_. Everything in a line after the # is considered a comment and not executed anymore."
   ]
  },
  {
   "cell_type": "code",
   "execution_count": 7,
   "metadata": {},
   "outputs": [
    {
     "name": "stdout",
     "output_type": "stream",
     "text": [
      "Hello\n"
     ]
    }
   ],
   "source": [
    "# this is a comment\n",
    "print(\"Hello\")"
   ]
  },
  {
   "cell_type": "markdown",
   "metadata": {},
   "source": [
    "**Comments are FUCKING important. Code without comments is useless, because nobody - not even the person who wrote it - will understand the code anymore if enough time has passed. This can be years, weeks, months or just days. If the code is only a little more complex than trivial nobody can understand it without comments. And nothing is trivial. Even if it seems trivial to you, trust me: nothing can be considered trivial in general.**"
   ]
  },
  {
   "cell_type": "markdown",
   "metadata": {},
   "source": [
    "There are also multiline comments. They are indicated with three quotation marks (three to open and three to close the comment). They are usually used as header comments to document functions and classes (see below). \n",
    "\n",
    "Multiline comments are actually a [multiline string](https://www.w3schools.com/python/gloss_python_multi_line_strings.asp) and should used for comments only as header comments in functions or classes."
   ]
  },
  {
   "cell_type": "code",
   "execution_count": 8,
   "metadata": {},
   "outputs": [
    {
     "data": {
      "text/plain": [
       "'\\nThis comment\\nspans \\nmultiple \\nlines\\n'"
      ]
     },
     "execution_count": 8,
     "metadata": {},
     "output_type": "execute_result"
    }
   ],
   "source": [
    "\"\"\"\n",
    "This comment\n",
    "spans \n",
    "multiple \n",
    "lines\n",
    "\"\"\""
   ]
  },
  {
   "cell_type": "markdown",
   "metadata": {},
   "source": [
    "# Defining Variables \n",
    "Variables are defined using \"=\", called the assign operator.  Below we will create a variable called and assign the value 1 to it."
   ]
  },
  {
   "cell_type": "code",
   "execution_count": 1,
   "metadata": {},
   "outputs": [],
   "source": [
    "a = 1"
   ]
  },
  {
   "cell_type": "code",
   "execution_count": 2,
   "metadata": {},
   "outputs": [
    {
     "data": {
      "text/plain": [
       "1"
      ]
     },
     "execution_count": 2,
     "metadata": {},
     "output_type": "execute_result"
    }
   ],
   "source": [
    "a"
   ]
  },
  {
   "cell_type": "markdown",
   "metadata": {},
   "source": [
    "# Datatypes\n",
    "In python there are various data types. Every variable that is created in python has a type. A few important types are listed below:\n",
    "\n",
    "type | description\n",
    "------:|:-----\n",
    "int | for integer numbers, e.g. 1, 2, -5, 20, ...\n",
    "float | for real numbers in scientific notation. Caution: only a finite number of decimal places is stored. \n",
    "str | for strings. Are marked with a pair for (single or double) quotation marks: e.g. \"hello\", 'lol'\n",
    "\n",
    "Find more types [here](https://www.w3schools.com/python/python_datatypes.asp)\n",
    "\n",
    "\n",
    "Python is [dynamically typed](https://en.wikipedia.org/wiki/Dynamic_programming_language) programming language. This means that you dont have to explicitly define the time of a variable when you create it. The python interpreter will determine the type of the variable by the value that is assigned to it when it is created. \n",
    "\n",
    "\n",
    "\n",
    "You can check the type of variables using the built-in command \"type\""
   ]
  },
  {
   "cell_type": "code",
   "execution_count": 3,
   "metadata": {},
   "outputs": [
    {
     "data": {
      "text/plain": [
       "int"
      ]
     },
     "execution_count": 3,
     "metadata": {},
     "output_type": "execute_result"
    }
   ],
   "source": [
    "type(1)"
   ]
  },
  {
   "cell_type": "code",
   "execution_count": 4,
   "metadata": {},
   "outputs": [
    {
     "data": {
      "text/plain": [
       "float"
      ]
     },
     "execution_count": 4,
     "metadata": {},
     "output_type": "execute_result"
    }
   ],
   "source": [
    "type(2.34)"
   ]
  },
  {
   "cell_type": "code",
   "execution_count": null,
   "metadata": {},
   "outputs": [],
   "source": []
  },
  {
   "cell_type": "markdown",
   "metadata": {},
   "source": [
    "### Exercise: \n",
    "Determine the type of the variable a from above "
   ]
  },
  {
   "cell_type": "code",
   "execution_count": null,
   "metadata": {},
   "outputs": [],
   "source": []
  },
  {
   "cell_type": "markdown",
   "metadata": {},
   "source": [
    "### Exercise: \n",
    "Determine the type of: _a > 2_"
   ]
  },
  {
   "cell_type": "code",
   "execution_count": null,
   "metadata": {},
   "outputs": [],
   "source": []
  },
  {
   "cell_type": "markdown",
   "metadata": {},
   "source": [
    "# Format printing.\n",
    "\n",
    "You can infuse values into a string at premarked positions. You can also define the format. See \n",
    "https://pyformat.info/ for information"
   ]
  },
  {
   "cell_type": "code",
   "execution_count": 1,
   "metadata": {},
   "outputs": [
    {
     "data": {
      "text/plain": [
       "'Inserte the value after the beep. beep: 1231'"
      ]
     },
     "execution_count": 1,
     "metadata": {},
     "output_type": "execute_result"
    }
   ],
   "source": [
    "\"Inserte the value after the beep. beep: {0}\".format(1231)"
   ]
  },
  {
   "cell_type": "code",
   "execution_count": 2,
   "metadata": {},
   "outputs": [
    {
     "data": {
      "text/plain": [
       "'My value for a is 3'"
      ]
     },
     "execution_count": 2,
     "metadata": {},
     "output_type": "execute_result"
    }
   ],
   "source": [
    "a = 3\n",
    "\"My value for a is {0}\".format(a)"
   ]
  },
  {
   "cell_type": "code",
   "execution_count": 4,
   "metadata": {},
   "outputs": [
    {
     "data": {
      "text/plain": [
       "'My value for a is 3'"
      ]
     },
     "execution_count": 4,
     "metadata": {},
     "output_type": "execute_result"
    }
   ],
   "source": [
    "a = 3\n",
    "\n",
    "# this is an f-string. works like format, but is shorter\n",
    "f\"My value for a is {a}\""
   ]
  },
  {
   "cell_type": "markdown",
   "metadata": {},
   "source": [
    "## Iterables\n",
    "There is another impartant data type that we will mention here now. Iterables are sequence variables. They dont have a single value, but a sequence of them. \n",
    "\n",
    "An important example is the list. Its created via the bracket operators \"\\[\" and \"\\]\". List elements do not all eed to be of the same data type."
   ]
  },
  {
   "cell_type": "code",
   "execution_count": 22,
   "metadata": {},
   "outputs": [
    {
     "data": {
      "text/plain": [
       "[1, 2, 3, 4]"
      ]
     },
     "execution_count": 22,
     "metadata": {},
     "output_type": "execute_result"
    }
   ],
   "source": [
    "[1, 2, 3, 4]"
   ]
  },
  {
   "cell_type": "code",
   "execution_count": 24,
   "metadata": {},
   "outputs": [
    {
     "data": {
      "text/plain": [
       "['a', 'b', 'c']"
      ]
     },
     "execution_count": 24,
     "metadata": {},
     "output_type": "execute_result"
    }
   ],
   "source": [
    "[\"a\", \"b\", \"c\"]"
   ]
  },
  {
   "cell_type": "code",
   "execution_count": 25,
   "metadata": {},
   "outputs": [
    {
     "data": {
      "text/plain": [
       "[1, 2, 'sd#']"
      ]
     },
     "execution_count": 25,
     "metadata": {},
     "output_type": "execute_result"
    }
   ],
   "source": [
    "[1, 2, \"sd#\"]"
   ]
  },
  {
   "cell_type": "markdown",
   "metadata": {},
   "source": [
    "### Exercise:\n",
    "Try to create a list containing two different data types\n"
   ]
  },
  {
   "cell_type": "markdown",
   "metadata": {},
   "source": [
    "## Castig\n",
    "You can transform the data type of a variable to a different type by using the typename of the second type as a function. CAUTION: the two types must be compatible"
   ]
  },
  {
   "cell_type": "code",
   "execution_count": 29,
   "metadata": {},
   "outputs": [
    {
     "data": {
      "text/plain": [
       "3"
      ]
     },
     "execution_count": 29,
     "metadata": {},
     "output_type": "execute_result"
    }
   ],
   "source": [
    "int(3.0)"
   ]
  },
  {
   "cell_type": "code",
   "execution_count": 30,
   "metadata": {},
   "outputs": [
    {
     "data": {
      "text/plain": [
       "int"
      ]
     },
     "execution_count": 30,
     "metadata": {},
     "output_type": "execute_result"
    }
   ],
   "source": [
    "type(int(3.0))"
   ]
  },
  {
   "cell_type": "code",
   "execution_count": 31,
   "metadata": {},
   "outputs": [
    {
     "data": {
      "text/plain": [
       "5.0"
      ]
     },
     "execution_count": 31,
     "metadata": {},
     "output_type": "execute_result"
    }
   ],
   "source": [
    "float(5)"
   ]
  },
  {
   "cell_type": "code",
   "execution_count": 32,
   "metadata": {},
   "outputs": [
    {
     "data": {
      "text/plain": [
       "100.2"
      ]
     },
     "execution_count": 32,
     "metadata": {},
     "output_type": "execute_result"
    }
   ],
   "source": [
    "float(\"100.2\")"
   ]
  },
  {
   "cell_type": "code",
   "execution_count": 34,
   "metadata": {},
   "outputs": [
    {
     "data": {
      "text/plain": [
       "['a', 'b', 'c', 'd']"
      ]
     },
     "execution_count": 34,
     "metadata": {},
     "output_type": "execute_result"
    }
   ],
   "source": [
    "# strings are also iterables and can therefore be casted to list\n",
    "list(\"abcd\")"
   ]
  },
  {
   "cell_type": "markdown",
   "metadata": {},
   "source": [
    "# Controll Flow\n",
    "The controll flow in python relies heavily on booleans. This is a data type that allows two values: True and False"
   ]
  },
  {
   "cell_type": "code",
   "execution_count": 12,
   "metadata": {},
   "outputs": [],
   "source": [
    "L = True"
   ]
  },
  {
   "cell_type": "code",
   "execution_count": 13,
   "metadata": {},
   "outputs": [
    {
     "data": {
      "text/plain": [
       "bool"
      ]
     },
     "execution_count": 13,
     "metadata": {},
     "output_type": "execute_result"
    }
   ],
   "source": [
    "type(L)"
   ]
  },
  {
   "cell_type": "markdown",
   "metadata": {},
   "source": [
    "##  If condition and booleans\n",
    "\n",
    "The flow of a program can be controlled using if-conditions. Code within an if statement will only be executed of the condition after the if is met. \n",
    "\n",
    "The if blocks end with indentation. I.e. it starts in the lines below the if, indicated by the indentation of 4 spaces and ends as soon as the a line starts at the original indent. \n",
    "\n",
    "Example:\n",
    "```\n",
    "if (expression that can be casted to bool):\n",
    "    begin of code block\n",
    "    ..\n",
    "    some more code within the if block\n",
    "    ...\n",
    "    \n",
    "    end of the if-block\n",
    "begin of new other code\n",
    "...\n",
    "\n",
    "```"
   ]
  },
  {
   "cell_type": "code",
   "execution_count": 9,
   "metadata": {},
   "outputs": [],
   "source": [
    "a = 0"
   ]
  },
  {
   "cell_type": "code",
   "execution_count": 11,
   "metadata": {},
   "outputs": [],
   "source": [
    "# does nothing\n",
    "if a > 2:\n",
    "    print(\"Hello\")"
   ]
  },
  {
   "cell_type": "code",
   "execution_count": 16,
   "metadata": {},
   "outputs": [
    {
     "name": "stdout",
     "output_type": "stream",
     "text": [
      "Hello\n"
     ]
    }
   ],
   "source": [
    "# Now it works\n",
    "if a < 2:\n",
    "    print(\"Hello\")"
   ]
  },
  {
   "cell_type": "code",
   "execution_count": 17,
   "metadata": {},
   "outputs": [],
   "source": [
    "if False:\n",
    "    print(\"this is never printed\")"
   ]
  },
  {
   "cell_type": "code",
   "execution_count": 18,
   "metadata": {},
   "outputs": [
    {
     "name": "stdout",
     "output_type": "stream",
     "text": [
      "This is printed\n"
     ]
    }
   ],
   "source": [
    "L = True\n",
    "if L:\n",
    "    print(\"This is printed\")"
   ]
  },
  {
   "cell_type": "markdown",
   "metadata": {},
   "source": [
    "If you want to check a condition and then do either one thing or the other you can use _if_ and _else_. If you want to check a tree of conditions use _elif_ "
   ]
  },
  {
   "cell_type": "code",
   "execution_count": 20,
   "metadata": {},
   "outputs": [
    {
     "name": "stdout",
     "output_type": "stream",
     "text": [
      "a < = 0\n"
     ]
    }
   ],
   "source": [
    "a = 0\n",
    "\n",
    "if a > 0:\n",
    "    print(\"a > 0\")\n",
    "else: \n",
    "    print(\"a < = 0\")"
   ]
  },
  {
   "cell_type": "code",
   "execution_count": 21,
   "metadata": {},
   "outputs": [
    {
     "name": "stdout",
     "output_type": "stream",
     "text": [
      "a == 0\n"
     ]
    }
   ],
   "source": [
    "a = 0\n",
    "\n",
    "if a > 0:\n",
    "    print(\"a > 0\")\n",
    "elif a < 0: \n",
    "    print(\"a < 0\")\n",
    "else:\n",
    "    print(\"a == 0\")"
   ]
  },
  {
   "cell_type": "markdown",
   "metadata": {},
   "source": [
    "## Loops\n",
    "If you want to do things more often than once, e.g. if you have a list of things to do and all these things are repetitive and similar its probaly smart to use a loop.\n",
    "\n",
    "Python offers for loops. The systax is:\n",
    "```\n",
    "for loop_variable in iterable:\n",
    "    ...\n",
    "```\n",
    "\n",
    "In every loop iteration loop_variable will take the values stored in iterable's sequnce - one after the other.\n",
    "\n",
    "The code block that is repeated in the loop is also marked by indentaion, just as with the if-blocks."
   ]
  },
  {
   "cell_type": "code",
   "execution_count": 36,
   "metadata": {},
   "outputs": [
    {
     "name": "stdout",
     "output_type": "stream",
     "text": [
      "1\n",
      "2\n",
      "3\n"
     ]
    }
   ],
   "source": [
    "for x in [1, 2, 3]:\n",
    "    print(x)"
   ]
  },
  {
   "cell_type": "code",
   "execution_count": 38,
   "metadata": {},
   "outputs": [
    {
     "name": "stdout",
     "output_type": "stream",
     "text": [
      "h\n",
      "e\n",
      "l\n",
      "l\n",
      "o\n"
     ]
    }
   ],
   "source": [
    "for x in \"hello\":\n",
    "    print(x)"
   ]
  },
  {
   "cell_type": "code",
   "execution_count": 39,
   "metadata": {},
   "outputs": [],
   "source": [
    "x = 0\n",
    "for x in [1, 2, 3]:\n",
    "    x = x + 1"
   ]
  },
  {
   "cell_type": "markdown",
   "metadata": {},
   "source": [
    "## while loops\n",
    "\n",
    "There also while loops, that you may know from other languages. They run until the extression after the while dows not evaluate to True anymore.\n",
    "\n",
    "\n",
    "```\n",
    "while expression:\n",
    "       ...\n",
    "```\n",
    "\n",
    "Most of the time you can rewrite a while loop into a for loop. This should always be preferred as for loops are usually more readable and can never turn into infinite loops, which while loops can under the right circumstances."
   ]
  },
  {
   "cell_type": "code",
   "execution_count": 1,
   "metadata": {},
   "outputs": [
    {
     "name": "stdout",
     "output_type": "stream",
     "text": [
      "0\n",
      "1\n",
      "2\n",
      "3\n",
      "4\n"
     ]
    },
    {
     "name": "stderr",
     "output_type": "stream",
     "text": [
      "/home/jcartus/anaconda3/lib/python3.7/site-packages/ipykernel/ipkernel.py:287: DeprecationWarning: `should_run_async` will not call `transform_cell` automatically in the future. Please pass the result to `transformed_cell` argument and any exception that happen during thetransform in `preprocessing_exc_tuple` in IPython 7.17 and above.\n",
      "  and should_run_async(code)\n"
     ]
    }
   ],
   "source": [
    "a = 0\n",
    "while a < 5:\n",
    "    print(a)\n",
    "    a = a + 1\n",
    "    \n",
    "    "
   ]
  },
  {
   "cell_type": "markdown",
   "metadata": {},
   "source": [
    "## range\n",
    "You can create an iterable contain integer numbers from a _start_ value to and _end_ value (with a given _step_) using a range like this\n",
    "\n",
    "> range(start, end**+1**, step)\n",
    "\n",
    "Defaults for start is 0 and for step it is 1."
   ]
  },
  {
   "cell_type": "code",
   "execution_count": 41,
   "metadata": {},
   "outputs": [
    {
     "data": {
      "text/plain": [
       "range(1, 10)"
      ]
     },
     "execution_count": 41,
     "metadata": {},
     "output_type": "execute_result"
    }
   ],
   "source": [
    "range(1, 10, 1)"
   ]
  },
  {
   "cell_type": "markdown",
   "metadata": {},
   "source": [
    "To print out the values of a range cast them to a list "
   ]
  },
  {
   "cell_type": "code",
   "execution_count": 42,
   "metadata": {},
   "outputs": [
    {
     "data": {
      "text/plain": [
       "[1, 2, 3, 4, 5, 6, 7, 8, 9]"
      ]
     },
     "execution_count": 42,
     "metadata": {},
     "output_type": "execute_result"
    }
   ],
   "source": [
    "list(range(1, 10, 1))"
   ]
  },
  {
   "cell_type": "code",
   "execution_count": 43,
   "metadata": {},
   "outputs": [
    {
     "data": {
      "text/plain": [
       "[0, 1, 2, 3, 4, 5, 6, 7, 8, 9]"
      ]
     },
     "execution_count": 43,
     "metadata": {},
     "output_type": "execute_result"
    }
   ],
   "source": [
    "list(range(10))"
   ]
  },
  {
   "cell_type": "markdown",
   "metadata": {},
   "source": [
    "### Exercise:\n",
    "Create a list with all even integer natural numbers smaller than 20"
   ]
  },
  {
   "cell_type": "code",
   "execution_count": null,
   "metadata": {},
   "outputs": [],
   "source": []
  },
  {
   "cell_type": "markdown",
   "metadata": {},
   "source": [
    "### Exercise: \n",
    "sum all integers from 1 to 100 "
   ]
  },
  {
   "cell_type": "markdown",
   "metadata": {},
   "source": [
    "# Functions\n",
    "If there is some code that you can use again, but for different values you MUST create a function. Duplicate code is like software cancer.\n",
    "\n",
    "The systax is \n",
    "``` \n",
    "def <function name>(argument1, argument2, ...):\n",
    "    function code\n",
    "    ...\n",
    "    ...\n",
    "    (return ...)\n",
    "``` \n",
    "See also https://www.w3schools.com/python/python_functions.asp.\n",
    "The function block is again terminated via indentation."
   ]
  },
  {
   "cell_type": "code",
   "execution_count": 47,
   "metadata": {},
   "outputs": [
    {
     "data": {
      "text/plain": [
       "1"
      ]
     },
     "execution_count": 47,
     "metadata": {},
     "output_type": "execute_result"
    }
   ],
   "source": [
    "def f(x):\n",
    "    return x\n",
    "\n",
    "f(1)"
   ]
  },
  {
   "cell_type": "code",
   "execution_count": 48,
   "metadata": {},
   "outputs": [],
   "source": [
    "def simple_sum(x, y):\n",
    "    \"\"\"This is a dummy function. This comment here\n",
    "    is a header comment. It exaplains what the funciton does.\n",
    "    In this case it builds the sum of argument1 and argument2\n",
    "    \n",
    "    Args:\n",
    "    - x: this is the first input parameter for the function. Should be a number.\n",
    "    - y: This is also a number!\n",
    "    \n",
    "    Returns:\n",
    "    the sum of x and y.\n",
    "    \"\"\"\n",
    "    \n",
    "    return x + y"
   ]
  },
  {
   "cell_type": "code",
   "execution_count": 49,
   "metadata": {},
   "outputs": [
    {
     "data": {
      "text/plain": [
       "3"
      ]
     },
     "execution_count": 49,
     "metadata": {},
     "output_type": "execute_result"
    }
   ],
   "source": [
    "simple_sum(1, 2)"
   ]
  },
  {
   "cell_type": "code",
   "execution_count": 50,
   "metadata": {},
   "outputs": [
    {
     "data": {
      "text/plain": [
       "12"
      ]
     },
     "execution_count": 50,
     "metadata": {},
     "output_type": "execute_result"
    }
   ],
   "source": [
    "\n",
    "simple_sum(10, 2)"
   ]
  },
  {
   "cell_type": "markdown",
   "metadata": {},
   "source": [
    "### Exercise:\n",
    "Write a function that calculates the nth element in a [geometric sequence](https://en.wikipedia.org/wiki/Geometric_progression) for an arbitraty common ratio q\n",
    "\n",
    "$$ a_0 \\in \\mathbb{R}, i \\in \\mathbb{N}^*$$\n",
    "$$a_i = a_{i-1} * q, \\qquad q\\in\\mathbb{R} $$"
   ]
  },
  {
   "cell_type": "markdown",
   "metadata": {},
   "source": [
    "### Exercise:\n",
    "Write a function that calculates the nth partial sum in the [geometric series](https://en.wikipedia.org/wiki/Geometric_series)\n",
    "\n",
    "$$s_n = \\sum_{i=0}^n a_i $$\n",
    "$a_i$ elements of the geometric sequence (see above)"
   ]
  },
  {
   "cell_type": "markdown",
   "metadata": {},
   "source": [
    "### Exercise:\n",
    "Show that the geometric series converge to the value \n",
    "$$S=\\frac{ a_0}{1-q} $$ for a common ratio $0<q<1$. Its enough to show it for a single valid and a single invalid q."
   ]
  },
  {
   "cell_type": "markdown",
   "metadata": {},
   "source": [
    "# Classes\n",
    "Classes are a combination of varaibles and functions. Its a complex issue so we will not go into too much detail here. The idea is to group variables and functions by \"topic\" and restrict the access of functions to only varaiables and functions they really need to work. (Need to know basis) This is called ancapsulation. \n",
    "\n",
    "(In python its not possible to really restrict access, but it is convention to not blindly use the ressources of a class in a nother class)"
   ]
  },
  {
   "cell_type": "code",
   "execution_count": 52,
   "metadata": {},
   "outputs": [],
   "source": [
    "class Foo(object):\n",
    "    \n",
    "    def __init__(self, a, b):\n",
    "        self.a = a\n",
    "        self.b = a\n",
    "        \n",
    "    def test(self):\n",
    "        print(self.a, self.b)\n",
    "    \n",
    "    def increase(self, c):\n",
    "        self.a = self.a + c\n",
    "        self.b = self.b + c"
   ]
  },
  {
   "cell_type": "markdown",
   "metadata": {},
   "source": [
    "# Errors and exception\n",
    "If something goes wrong during the execution of python code an expection is thrown. \n",
    "\n",
    "Example below:"
   ]
  },
  {
   "cell_type": "code",
   "execution_count": 3,
   "metadata": {},
   "outputs": [
    {
     "ename": "ValueError",
     "evalue": "invalid literal for int() with base 10: '1.1'",
     "output_type": "error",
     "traceback": [
      "\u001b[0;31m---------------------------------------------------------------------------\u001b[0m",
      "\u001b[0;31mValueError\u001b[0m                                Traceback (most recent call last)",
      "\u001b[0;32m<ipython-input-3-8c4c1f183c39>\u001b[0m in \u001b[0;36m<module>\u001b[0;34m\u001b[0m\n\u001b[0;32m----> 1\u001b[0m \u001b[38;5;28;48;5;17mint\u001b[39;49m\u001b[48;5;17m(\u001b[49m\u001b[38;5;124;48;5;17m\"\u001b[39;49m\u001b[38;5;124;48;5;17m1.1\u001b[39;49m\u001b[38;5;124;48;5;17m\"\u001b[39;49m\u001b[48;5;17m)\u001b[49m\n",
      "\u001b[0;31mValueError\u001b[0m: invalid literal for int() with base 10: '1.1'"
     ]
    }
   ],
   "source": [
    "int(\"1.1\")"
   ]
  },
  {
   "cell_type": "markdown",
   "metadata": {},
   "source": [
    "Exceptions are an advanced topic and usually needed for larger code projects only. See here for more info on them: https://docs.python.org/3/library/exceptions.html\n",
    "\n",
    "The very hard basics are: \n",
    "- you can throw them yourself using the command ```raise <instance of exception>```\n",
    "- you can catch them using a try-except block"
   ]
  },
  {
   "cell_type": "code",
   "execution_count": 4,
   "metadata": {},
   "outputs": [
    {
     "ename": "ValueError",
     "evalue": "This input value is incrorrect!",
     "output_type": "error",
     "traceback": [
      "\u001b[0;31m---------------------------------------------------------------------------\u001b[0m",
      "\u001b[0;31mValueError\u001b[0m                                Traceback (most recent call last)",
      "\u001b[0;32m<ipython-input-4-e12776acaf27>\u001b[0m in \u001b[0;36m<module>\u001b[0;34m\u001b[0m\n\u001b[0;32m----> 1\u001b[0m \u001b[38;5;28;01mraise\u001b[39;00m \u001b[38;5;167;01mValueError\u001b[39;00m(\u001b[38;5;124m\"\u001b[39m\u001b[38;5;124mThis input value is incrorrect!\u001b[39m\u001b[38;5;124m\"\u001b[39m)\n",
      "\u001b[0;31mValueError\u001b[0m: This input value is incrorrect!"
     ]
    }
   ],
   "source": [
    "raise ValueError(\"This input value is incrorrect!\")"
   ]
  },
  {
   "cell_type": "code",
   "execution_count": 5,
   "metadata": {},
   "outputs": [
    {
     "name": "stdout",
     "output_type": "stream",
     "text": [
      "Oh no an error has occured: This input value is incrorrect!\n"
     ]
    },
    {
     "name": "stderr",
     "output_type": "stream",
     "text": [
      "/home/jcartus/anaconda3/lib/python3.7/site-packages/ipykernel/ipkernel.py:287: DeprecationWarning: `should_run_async` will not call `transform_cell` automatically in the future. Please pass the result to `transformed_cell` argument and any exception that happen during thetransform in `preprocessing_exc_tuple` in IPython 7.17 and above.\n",
      "  and should_run_async(code)\n"
     ]
    }
   ],
   "source": [
    "def some_code_that_throws_an_error():\n",
    "    # ...\n",
    "    # do something ...\n",
    "    # ...\n",
    "    \n",
    "    raise ValueError(\"This input value is incrorrect!\")\n",
    "\n",
    "\n",
    "# i want to be sure this does not kill the program, \n",
    "# but i dont trunst the function ...\n",
    "# better use a try except block around it in case an error is thrown!\n",
    "try:\n",
    "    # try to execute the function\n",
    "    some_code_that_throws_an_error()\n",
    "except ValueError as ex:\n",
    "    print(\"Oh no an error has occured: \" + str(ex))\n",
    "    # (you can cast exceptions to string) to use them in error messages\n",
    "    "
   ]
  },
  {
   "cell_type": "code",
   "execution_count": null,
   "metadata": {},
   "outputs": [],
   "source": []
  }
 ],
 "metadata": {
  "kernelspec": {
   "display_name": "Python 3",
   "language": "python",
   "name": "python3"
  },
  "language_info": {
   "codemirror_mode": {
    "name": "ipython",
    "version": 3
   },
   "file_extension": ".py",
   "mimetype": "text/x-python",
   "name": "python",
   "nbconvert_exporter": "python",
   "pygments_lexer": "ipython3",
   "version": "3.7.9"
  }
 },
 "nbformat": 4,
 "nbformat_minor": 4
}
