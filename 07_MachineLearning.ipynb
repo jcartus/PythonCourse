{
 "cells": [
  {
   "cell_type": "markdown",
   "metadata": {},
   "source": [
    "# Machine Learning (W/ Sklearn)\n",
    "- polyfit\n",
    "- nlinfit\n",
    "- sklearn\n",
    "    - preprocess data with sklearn helpers\n",
    "    - regression w sklearn: linear fit, lasso, gpr, svm\n",
    "    - classification w sklearn: random forests\n",
    "- keras via tensorflow\n",
    "    - neural networks in general\n",
    "    - feed forward NN for simple regression\n",
    "    - feed forward NN for simple classification\n",
    "    - CNN for classification"
   ]
  },
  {
   "cell_type": "code",
   "execution_count": null,
   "metadata": {},
   "outputs": [],
   "source": []
  }
 ],
 "metadata": {
  "kernelspec": {
   "display_name": "Python 3",
   "language": "python",
   "name": "python3"
  },
  "language_info": {
   "codemirror_mode": {
    "name": "ipython",
    "version": 3
   },
   "file_extension": ".py",
   "mimetype": "text/x-python",
   "name": "python",
   "nbconvert_exporter": "python",
   "pygments_lexer": "ipython3",
   "version": "3.7.9"
  }
 },
 "nbformat": 4,
 "nbformat_minor": 4
}
