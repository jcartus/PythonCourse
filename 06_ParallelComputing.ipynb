{
 "cells": [
  {
   "cell_type": "markdown",
   "metadata": {},
   "source": [
    "# Parallel Computing\n",
    "- multiprocessing\n",
    "- dask"
   ]
  },
  {
   "cell_type": "code",
   "execution_count": 1,
   "metadata": {},
   "outputs": [
    {
     "name": "stderr",
     "output_type": "stream",
     "text": [
      "/home/jcartus/anaconda3/lib/python3.7/site-packages/ipykernel/ipkernel.py:287: DeprecationWarning: `should_run_async` will not call `transform_cell` automatically in the future. Please pass the result to `transformed_cell` argument and any exception that happen during thetransform in `preprocessing_exc_tuple` in IPython 7.17 and above.\n",
      "  and should_run_async(code)\n"
     ]
    }
   ],
   "source": [
    "import numpy as np\n",
    "import matplotlib.pyplot as plt"
   ]
  },
  {
   "cell_type": "markdown",
   "metadata": {},
   "source": [
    "# Measuring the executing time\n",
    "A way to measure the execution time is [timeit](https://docs.python.org/3/library/timeit.html). It executes the code in question multiple times and reports the average elapsed time. The longer the code runs, the fewer it will be rerun.\n",
    "\n",
    "\n",
    "There is a practical [adaption for ipython](https://ipython.readthedocs.io/en/stable/interactive/magics.html#magic-timeit), which is the backend for the jupyter notebook you are using at the momment. \n",
    "\n",
    "Use it by writing\n",
    "```%%timeit```\n",
    "At the top of of a cell."
   ]
  },
  {
   "cell_type": "code",
   "execution_count": 2,
   "metadata": {},
   "outputs": [
    {
     "name": "stderr",
     "output_type": "stream",
     "text": [
      "/home/jcartus/anaconda3/lib/python3.7/site-packages/ipykernel/ipkernel.py:287: DeprecationWarning: `should_run_async` will not call `transform_cell` automatically in the future. Please pass the result to `transformed_cell` argument and any exception that happen during thetransform in `preprocessing_exc_tuple` in IPython 7.17 and above.\n",
      "  and should_run_async(code)\n"
     ]
    },
    {
     "name": "stdout",
     "output_type": "stream",
     "text": [
      "10.1 µs ± 394 ns per loop (mean ± std. dev. of 7 runs, 100000 loops each)\n"
     ]
    }
   ],
   "source": [
    "%%timeit\n",
    "\n",
    "# create 1000 random values and sum them up\n",
    "np.sum(np.random.rand(1000))"
   ]
  },
  {
   "cell_type": "markdown",
   "metadata": {},
   "source": [
    "### Custom timer\n",
    "Based on [this answer from stackoverflow](https://stackoverflow.com/a/5849861) we will build a timer as a [contextmanger](https://docs.python.org/3/library/contextlib.html)."
   ]
  },
  {
   "cell_type": "code",
   "execution_count": 3,
   "metadata": {},
   "outputs": [],
   "source": [
    "import time\n",
    "\n",
    "class Timer(object):\n",
    "    \n",
    "    def __enter__(self):\n",
    "        self.t_start = time.time()\n",
    "        return self\n",
    "\n",
    "    def __exit__(self, etype, value, traceback):\n",
    "        self.t_end = time.time()\n",
    "    \n",
    "    @property\n",
    "    def elapsed(self):\n",
    "        return self.t_end - self.t_start"
   ]
  },
  {
   "cell_type": "code",
   "execution_count": 4,
   "metadata": {},
   "outputs": [
    {
     "name": "stdout",
     "output_type": "stream",
     "text": [
      "Time elapsed 48.876 mu seconds\n"
     ]
    }
   ],
   "source": [
    "with Timer() as t:\n",
    "    np.sum(np.random.rand(1000))\n",
    "    \n",
    "print(f\"Time elapsed {t.elapsed * 1e6:1.3f} mu seconds\")"
   ]
  },
  {
   "cell_type": "markdown",
   "metadata": {},
   "source": [
    "# Numpy\n",
    "Numpy has actually a lot of its math operations very nice parallelized. They are very well optimized and much faster then using loops and probably also anythoing parallel you build yourself. "
   ]
  },
  {
   "cell_type": "code",
   "execution_count": 5,
   "metadata": {},
   "outputs": [],
   "source": [
    "a = np.random.rand(1000)\n",
    "b = np.random.rand(1000)"
   ]
  },
  {
   "cell_type": "code",
   "execution_count": 6,
   "metadata": {},
   "outputs": [
    {
     "name": "stdout",
     "output_type": "stream",
     "text": [
      "724 ns ± 39.1 ns per loop (mean ± std. dev. of 7 runs, 1000000 loops each)\n"
     ]
    }
   ],
   "source": [
    "%%timeit\n",
    "\n",
    "# vectorized/parallel\n",
    "a*b"
   ]
  },
  {
   "cell_type": "code",
   "execution_count": 8,
   "metadata": {},
   "outputs": [
    {
     "name": "stdout",
     "output_type": "stream",
     "text": [
      "341 µs ± 20.2 µs per loop (mean ± std. dev. of 7 runs, 1000 loops each)\n"
     ]
    },
    {
     "name": "stderr",
     "output_type": "stream",
     "text": [
      "/home/jcartus/anaconda3/lib/python3.7/site-packages/ipykernel/ipkernel.py:287: DeprecationWarning: `should_run_async` will not call `transform_cell` automatically in the future. Please pass the result to `transformed_cell` argument and any exception that happen during thetransform in `preprocessing_exc_tuple` in IPython 7.17 and above.\n",
      "  and should_run_async(code)\n"
     ]
    }
   ],
   "source": [
    "%%timeit\n",
    "\n",
    "# using a loop \n",
    "\n",
    "# put the result into this buffer\n",
    "c = np.ones_like(a)\n",
    "\n",
    "for i in range(len(a)):\n",
    "    c[i] = a[i] * b[i]"
   ]
  },
  {
   "cell_type": "markdown",
   "metadata": {},
   "source": [
    "# Parallelcomputing libraries\n",
    "There are a lot of different libraries for parallel computation in python all of which have their unique strengths and weaknesses. A good overview over available libraries can be found here: https://wiki.python.org/moin/ParallelProcessing"
   ]
  },
  {
   "cell_type": "markdown",
   "metadata": {},
   "source": [
    "# Multiprocessing\n",
    "[multiprocessing](https://docs.python.org/3.8/library/multiprocessing.html) is one of the tools from the list mentioned above. It quite powerful, but also has an easy-to-use high-level interface.\n",
    "\n",
    "Below I will demonstrate how to process a list in parallel by applying an opertion to every list element."
   ]
  },
  {
   "cell_type": "code",
   "execution_count": 9,
   "metadata": {},
   "outputs": [],
   "source": [
    "import multiprocessing as mp"
   ]
  },
  {
   "cell_type": "code",
   "execution_count": 47,
   "metadata": {},
   "outputs": [],
   "source": [
    "def f(x):\n",
    "    \"\"\"Funciton we will apply to the array elements\"\"\"\n",
    "    \n",
    "    # this is a complicated funciton. \n",
    "    # it takes a long time ti do this calculation.\n",
    "    # to emulate this we will sleep a little\n",
    "    time.sleep(0.1)\n",
    "    \n",
    "    # so that at least some math is done we return the square\n",
    "    return x*x"
   ]
  },
  {
   "cell_type": "code",
   "execution_count": 48,
   "metadata": {},
   "outputs": [],
   "source": [
    "# a random array to test on\n",
    "array = list(np.random.rand(10))"
   ]
  },
  {
   "cell_type": "code",
   "execution_count": 49,
   "metadata": {},
   "outputs": [
    {
     "name": "stdout",
     "output_type": "stream",
     "text": [
      "1 s ± 59.1 µs per loop (mean ± std. dev. of 7 runs, 1 loop each)\n"
     ]
    }
   ],
   "source": [
    "%%timeit \n",
    "list(map(f, array))"
   ]
  },
  {
   "cell_type": "code",
   "execution_count": 50,
   "metadata": {},
   "outputs": [
    {
     "name": "stdout",
     "output_type": "stream",
     "text": [
      "363 ms ± 10.4 ms per loop (mean ± std. dev. of 7 runs, 1 loop each)\n"
     ]
    }
   ],
   "source": [
    "%%timeit \n",
    "with mp.Pool(6) as p:\n",
    "    list(p.map(f, array))"
   ]
  },
  {
   "cell_type": "code",
   "execution_count": 58,
   "metadata": {},
   "outputs": [
    {
     "data": {
      "text/plain": [
       "(10.01737356185913, 1.605027437210083)"
      ]
     },
     "execution_count": 58,
     "metadata": {},
     "output_type": "execute_result"
    }
   ],
   "source": [
    "def time_parallel_execution(n_elements):\n",
    "    \"\"\"Map a function to a random array of n_elements and \n",
    "    time how long the execution takes\"\"\"\n",
    "\n",
    "    # create a random array with n_elemements elements\n",
    "    array = [np.random.rand() for i in range(n_elements)]\n",
    "    \n",
    "    \n",
    "    #--- do the calculation serial ---\n",
    "    with Timer() as timer_serial:\n",
    "        for a in array:\n",
    "            f(a)\n",
    "    #---\n",
    "\n",
    "    \n",
    "    #--- do the calculation in parallel ---\n",
    "    # spawn a pool of workers\n",
    "    with mp.Pool() as p:\n",
    "        \n",
    "        with Timer() as timer_parallel:\n",
    "            # map the funciton f onto all elements of the array\n",
    "            # since we only want to measure speed we will not\n",
    "            # use the result for anything.\n",
    "            r = p.map(f, array)\n",
    "    #---\n",
    "    #print(r)\n",
    "    return timer_serial.elapsed, timer_parallel.elapsed\n",
    "\n",
    "time_parallel_execution(100)"
   ]
  },
  {
   "cell_type": "code",
   "execution_count": 67,
   "metadata": {},
   "outputs": [
    {
     "name": "stdout",
     "output_type": "stream",
     "text": [
      "Doing: 1\n",
      "Doing: 5\n",
      "Doing: 10\n",
      "Doing: 15\n",
      "Doing: 20\n",
      "Doing: 30\n",
      "Doing: 40\n",
      "Doing: 50\n",
      "Doing: 75\n",
      "Doing: 100\n",
      "Doing: 200\n",
      "Doing: 500\n"
     ]
    }
   ],
   "source": [
    "n = [1,  5, 10, 15, 20, 30, 40, 50, 75, 100, 200, 500]\n",
    "\n",
    "t_serial, t_parallel = [], []\n",
    "for ni in n:\n",
    "    print(f\"Doing: {ni}\")\n",
    "    t_s, t_p = time_parallel_execution(ni)\n",
    "    t_serial.append(t_s)\n",
    "    t_parallel.append(t_p)"
   ]
  },
  {
   "cell_type": "code",
   "execution_count": 71,
   "metadata": {},
   "outputs": [
    {
     "data": {
      "image/png": "[encoded data removed]",
      "text/plain": [
       "<Figure size 432x288 with 1 Axes>"
      ]
     },
     "metadata": {
      "needs_background": "light"
     },
     "output_type": "display_data"
    }
   ],
   "source": [
    "plt.loglog(n, t_serial, \"x-\", label=\"serial\")\n",
    "plt.loglog(n, t_parallel, \"o-\", label=\"parallel\")\n",
    "\n",
    "plt.xlabel(\"n elements processed / 1\", fontsize=18)\n",
    "plt.ylabel(\"execution time / s\", fontsize=18)\n",
    "\n",
    "plt.legend(fontsize=16);\n",
    "plt.xticks(fontsize=16);\n",
    "plt.yticks(fontsize=16);"
   ]
  },
  {
   "cell_type": "markdown",
   "metadata": {},
   "source": [
    "## Beware: parallelism takes time.\n",
    "If the function you are mapping onto the iterable is very fast, it may not be feasible to do this is parallel!"
   ]
  },
  {
   "cell_type": "code",
   "execution_count": 55,
   "metadata": {},
   "outputs": [],
   "source": [
    "def simple_f(x):\n",
    "    # easy and very fast to evaluate\n",
    "    return x**2"
   ]
  },
  {
   "cell_type": "code",
   "execution_count": 56,
   "metadata": {},
   "outputs": [
    {
     "name": "stdout",
     "output_type": "stream",
     "text": [
      "2.79 µs ± 24.3 ns per loop (mean ± std. dev. of 7 runs, 100000 loops each)\n"
     ]
    }
   ],
   "source": [
    "%%timeit \n",
    "list(map(simple_f, array))"
   ]
  },
  {
   "cell_type": "code",
   "execution_count": 57,
   "metadata": {},
   "outputs": [
    {
     "name": "stdout",
     "output_type": "stream",
     "text": [
      "182 ms ± 12.4 ms per loop (mean ± std. dev. of 7 runs, 10 loops each)\n"
     ]
    }
   ],
   "source": [
    "%%timeit \n",
    "with mp.Pool() as p:\n",
    "    list(p.map(simple_f, array))"
   ]
  },
  {
   "cell_type": "markdown",
   "metadata": {},
   "source": [
    "# Dask DataFrames\n",
    "I just wanted to leave this link here: if you ever need a larger scale version of pandas.DataFrames please checkiut [dask.DataFrames](https://docs.dask.org/en/latest/dataframe.html). Their interface is almost identical to pandas but calculations and data handling can be done distributed. "
   ]
  },
  {
   "cell_type": "code",
   "execution_count": null,
   "metadata": {},
   "outputs": [],
   "source": []
  }
 ],
 "metadata": {
  "kernelspec": {
   "display_name": "Python 3",
   "language": "python",
   "name": "python3"
  },
  "language_info": {
   "codemirror_mode": {
    "name": "ipython",
    "version": 3
   },
   "file_extension": ".py",
   "mimetype": "text/x-python",
   "name": "python",
   "nbconvert_exporter": "python",
   "pygments_lexer": "ipython3",
   "version": "3.7.9"
  }
 },
 "nbformat": 4,
 "nbformat_minor": 4
}
