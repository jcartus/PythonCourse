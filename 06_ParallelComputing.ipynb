{
 "cells": [
  {
   "cell_type": "markdown",
   "metadata": {},
   "source": [
    "# Parallel Computing\n",
    "- multiprocessing\n",
    "- dask"
   ]
  },
  {
   "cell_type": "code",
   "execution_count": 1,
   "metadata": {},
   "outputs": [],
   "source": [
    "import numpy as np\n",
    "import matplotlib.pyplot as plt"
   ]
  },
  {
   "cell_type": "markdown",
   "metadata": {},
   "source": [
    "# Measuring the executing time\n",
    "A way to measure the execution time is [timeit](https://docs.python.org/3/library/timeit.html). It executes the code in question multiple times and reports the average elapsed time. The longer the code runs, the fewer it will be rerun.\n",
    "\n",
    "\n",
    "There is a practical [adaption for ipython](https://ipython.readthedocs.io/en/stable/interactive/magics.html#magic-timeit), which is the backend for the jupyter notebook you are using at the momment. \n",
    "\n",
    "Use it by writing\n",
    "```%%timeit```\n",
    "At the top of of a cell."
   ]
  },
  {
   "cell_type": "code",
   "execution_count": 2,
   "metadata": {},
   "outputs": [
    {
     "name": "stdout",
     "output_type": "stream",
     "text": [
      "13.7 µs ± 211 ns per loop (mean ± std. dev. of 7 runs, 100000 loops each)\n"
     ]
    }
   ],
   "source": [
    "%%timeit\n",
    "\n",
    "# create 1000 random values and sum them up\n",
    "np.sum(np.random.rand(1000))"
   ]
  },
  {
   "cell_type": "markdown",
   "metadata": {},
   "source": [
    "### Custom timer\n",
    "Based on [this answer from stackoverflow](https://stackoverflow.com/a/5849861) we will build a timer as a [contextmanger](https://docs.python.org/3/library/contextlib.html)."
   ]
  },
  {
   "cell_type": "code",
   "execution_count": 3,
   "metadata": {},
   "outputs": [],
   "source": [
    "import time\n",
    "\n",
    "class Timer(object):\n",
    "    \n",
    "    def __enter__(self):\n",
    "        self.t_start = time.time()\n",
    "        return self\n",
    "\n",
    "    def __exit__(self, etype, value, traceback):\n",
    "        self.t_end = time.time()\n",
    "    \n",
    "    @property\n",
    "    def elapsed(self):\n",
    "        return self.t_end - self.t_start"
   ]
  },
  {
   "cell_type": "code",
   "execution_count": 4,
   "metadata": {},
   "outputs": [
    {
     "name": "stdout",
     "output_type": "stream",
     "text": [
      "Time elapsed 146.389 mu seconds\n"
     ]
    }
   ],
   "source": [
    "with Timer() as t:\n",
    "    np.sum(np.random.rand(1000))\n",
    "    \n",
    "print(f\"Time elapsed {t.elapsed * 1e6:1.3f} mu seconds\")"
   ]
  },
  {
   "cell_type": "markdown",
   "metadata": {},
   "source": [
    "# Numpy\n",
    "Numpy has actually a lot of its math operations very nice parallelized. They are very well optimized and much faster then using loops and probably also anythoing parallel you build yourself. "
   ]
  },
  {
   "cell_type": "code",
   "execution_count": 5,
   "metadata": {},
   "outputs": [],
   "source": [
    "a = np.random.rand(1000)\n",
    "b = np.random.rand(1000)"
   ]
  },
  {
   "cell_type": "code",
   "execution_count": 6,
   "metadata": {},
   "outputs": [
    {
     "name": "stdout",
     "output_type": "stream",
     "text": [
      "1.03 µs ± 45.4 ns per loop (mean ± std. dev. of 7 runs, 1000000 loops each)\n"
     ]
    }
   ],
   "source": [
    "%%timeit\n",
    "\n",
    "# vectorized/parallel\n",
    "a*b"
   ]
  },
  {
   "cell_type": "code",
   "execution_count": 7,
   "metadata": {},
   "outputs": [
    {
     "name": "stdout",
     "output_type": "stream",
     "text": [
      "387 µs ± 12.4 µs per loop (mean ± std. dev. of 7 runs, 1000 loops each)\n"
     ]
    }
   ],
   "source": [
    "%%timeit\n",
    "\n",
    "# using a loop (not even storing the result)\n",
    "for i in range(len(a)):\n",
    "    a[i] * b[i]"
   ]
  },
  {
   "cell_type": "markdown",
   "metadata": {},
   "source": [
    "# Parallelcomputing libraries\n",
    "There are a lot of different libraries for parallel computation in python all of which have their unique strengths and weaknesses. A good overview over available libraries can be found here: https://wiki.python.org/moin/ParallelProcessing"
   ]
  },
  {
   "cell_type": "markdown",
   "metadata": {},
   "source": [
    "# Multiprocessing\n",
    "[multiprocessing](https://docs.python.org/3.8/library/multiprocessing.html) is one of the tools from the list mentioned above. It quite powerful, but also has an easy-to-use high-level interface.\n",
    "\n",
    "Below I will demonstrate how to process a list in parallel by applying an opertion to every list element."
   ]
  },
  {
   "cell_type": "code",
   "execution_count": 8,
   "metadata": {},
   "outputs": [],
   "source": [
    "import multiprocessing as mp"
   ]
  },
  {
   "cell_type": "code",
   "execution_count": 9,
   "metadata": {},
   "outputs": [],
   "source": [
    "def f(x):\n",
    "    \"\"\"Funciton we will apply to the array elements\"\"\"\n",
    "    \n",
    "    # this is a complicated funciton. \n",
    "    # to emulate this we will sleep a little\n",
    "    #time.sleep(1)\n",
    "    \n",
    "    # so that at least some math is done we return the square\n",
    "    return x*x"
   ]
  },
  {
   "cell_type": "code",
   "execution_count": 10,
   "metadata": {},
   "outputs": [],
   "source": [
    "# a random array to test on\n",
    "array = list(np.random.rand(10000))"
   ]
  },
  {
   "cell_type": "code",
   "execution_count": 11,
   "metadata": {},
   "outputs": [
    {
     "name": "stdout",
     "output_type": "stream",
     "text": [
      "1.69 ms ± 55.7 µs per loop (mean ± std. dev. of 7 runs, 1000 loops each)\n"
     ]
    }
   ],
   "source": [
    "%%timeit \n",
    "list(map(f, array))"
   ]
  },
  {
   "cell_type": "code",
   "execution_count": 12,
   "metadata": {},
   "outputs": [
    {
     "data": {
      "text/plain": [
       "(0.05193185806274414, 0.00031948089599609375)"
      ]
     },
     "execution_count": 12,
     "metadata": {},
     "output_type": "execute_result"
    }
   ],
   "source": [
    "def time_parallel_execution(n_elements):\n",
    "    \"\"\"Map a function to a random array of n_elements and \n",
    "    time how long the execution takes\"\"\"\n",
    "\n",
    "    # create a random array with n_elemements elements\n",
    "    array = (np.random.rand() for i in range(n_elements))\n",
    "    \n",
    "    \n",
    "    #--- do the calculation serial ---\n",
    "    with Timer() as timer_serial:\n",
    "        for a in array:\n",
    "            f(a)\n",
    "    #---\n",
    "    \n",
    "    \n",
    "    \n",
    "    #--- do the calculation in parallel ---\n",
    "    # spawn a pool of workers\n",
    "    with mp.Pool() as p:\n",
    "        \n",
    "        with Timer() as timer_parallel:\n",
    "            # map the funciton f onto all elements of the array\n",
    "            # since we only want to measure speed we will not\n",
    "            # use the result for anything.\n",
    "            r = p.map(f, array)\n",
    "    #---\n",
    "    #print(r)\n",
    "    return timer_serial.elapsed, timer_parallel.elapsed\n",
    "\n",
    "time_parallel_execution(100000)"
   ]
  },
  {
   "cell_type": "code",
   "execution_count": 13,
   "metadata": {},
   "outputs": [
    {
     "data": {
      "text/plain": [
       "array([1.e+02, 1.e+03, 1.e+04, 1.e+05, 1.e+06, 1.e+07])"
      ]
     },
     "execution_count": 13,
     "metadata": {},
     "output_type": "execute_result"
    }
   ],
   "source": [
    "np.logspace(2, 7, 6)"
   ]
  },
  {
   "cell_type": "code",
   "execution_count": 14,
   "metadata": {},
   "outputs": [
    {
     "name": "stdout",
     "output_type": "stream",
     "text": [
      "Doing: 100\n",
      "Doing: 1000\n",
      "Doing: 10000\n",
      "Doing: 100000\n"
     ]
    }
   ],
   "source": [
    "n = [100, 1000, 10000, 100000]\n",
    "\n",
    "t_serial, t_parallel = [], []\n",
    "for ni in n:\n",
    "    print(f\"Doing: {ni}\")\n",
    "    t_s, t_p = time_parallel_execution(ni)\n",
    "    t_serial.append(t_s)\n",
    "    t_parallel.append(t_p)"
   ]
  },
  {
   "cell_type": "code",
   "execution_count": 15,
   "metadata": {},
   "outputs": [
    {
     "data": {
      "image/png": "[encoded data removed]",
      "text/plain": [
       "<Figure size 432x288 with 1 Axes>"
      ]
     },
     "metadata": {
      "needs_background": "light"
     },
     "output_type": "display_data"
    }
   ],
   "source": [
    "plt.semilogx(n, t_serial, \"x-\", label=\"serial\")\n",
    "plt.semilogx(n, t_parallel, \"o-\", label=\"parallel\")\n",
    "\n",
    "plt.xlabel(\"n elements processed / 1\", fontsize=18)\n",
    "plt.ylabel(\"execution time / s\", fontsize=18)\n",
    "\n",
    "plt.legend(fontsize=16);\n",
    "plt.xticks(fontsize=16);\n",
    "plt.yticks(fontsize=16);"
   ]
  },
  {
   "cell_type": "markdown",
   "metadata": {},
   "source": [
    "# Dask DataFrames\n",
    "I just wanted to leave this link here: if you ever need a larger scale version of pandas.DataFrames please checkiut [dask.DataFrames](https://docs.dask.org/en/latest/dataframe.html). Their interface is almost identical to pandas but calculations and data handling can be done distributed. "
   ]
  },
  {
   "cell_type": "code",
   "execution_count": null,
   "metadata": {},
   "outputs": [],
   "source": []
  }
 ],
 "metadata": {
  "kernelspec": {
   "display_name": "Python 3",
   "language": "python",
   "name": "python3"
  },
  "language_info": {
   "codemirror_mode": {
    "name": "ipython",
    "version": 3
   },
   "file_extension": ".py",
   "mimetype": "text/x-python",
   "name": "python",
   "nbconvert_exporter": "python",
   "pygments_lexer": "ipython3",
   "version": "3.7.9"
  }
 },
 "nbformat": 4,
 "nbformat_minor": 4
}
